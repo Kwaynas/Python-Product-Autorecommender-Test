{
 "cells": [
  {
   "cell_type": "code",
   "execution_count": 1,
   "id": "4061b731-9bcf-4d65-b4a7-0a214f27d9eb",
   "metadata": {},
   "outputs": [],
   "source": [
    "import numpy as np\n",
    "import pandas as pd\n",
    "from mlxtend.frequent_patterns import apriori, association_rules, fpgrowth"
   ]
  },
  {
   "cell_type": "code",
   "execution_count": 2,
   "id": "56cf25cf-1652-45be-9132-30d68ec371aa",
   "metadata": {},
   "outputs": [
    {
     "data": {
      "text/plain": [
       "4335272"
      ]
     },
     "execution_count": 2,
     "metadata": {},
     "output_type": "execute_result"
    }
   ],
   "source": [
    "data = pd.read_csv('Raw Database.csv')\n",
    "data.size"
   ]
  },
  {
   "cell_type": "code",
   "execution_count": 3,
   "id": "3eebe43e-946a-4839-a5b8-0d23f0405db4",
   "metadata": {},
   "outputs": [
    {
     "data": {
      "text/plain": [
       "4260968"
      ]
     },
     "execution_count": 3,
     "metadata": {},
     "output_type": "execute_result"
    }
   ],
   "source": [
    "# Stripping extra spaces in the description\n",
    "data['Description'] = data['Description'].str.strip()\n",
    "\n",
    "# Dropping all transactions which were done on credit\n",
    "data = data[~data['InvoiceNo'].str.contains('C')]\n",
    "data.size"
   ]
  },
  {
   "cell_type": "code",
   "execution_count": 4,
   "id": "56f3fb0a-5ecc-441b-a217-7e7f95c9d2ff",
   "metadata": {},
   "outputs": [
    {
     "data": {
      "text/html": [
       "<div>\n",
       "<style scoped>\n",
       "    .dataframe tbody tr th:only-of-type {\n",
       "        vertical-align: middle;\n",
       "    }\n",
       "\n",
       "    .dataframe tbody tr th {\n",
       "        vertical-align: top;\n",
       "    }\n",
       "\n",
       "    .dataframe thead th {\n",
       "        text-align: right;\n",
       "    }\n",
       "</style>\n",
       "<table border=\"1\" class=\"dataframe\">\n",
       "  <thead>\n",
       "    <tr style=\"text-align: right;\">\n",
       "      <th></th>\n",
       "      <th>InvoiceNo</th>\n",
       "      <th>StockCode</th>\n",
       "      <th>Description</th>\n",
       "      <th>Quantity</th>\n",
       "      <th>InvoiceDate</th>\n",
       "      <th>UnitPrice</th>\n",
       "      <th>CustomerID</th>\n",
       "      <th>Country</th>\n",
       "    </tr>\n",
       "  </thead>\n",
       "  <tbody>\n",
       "    <tr>\n",
       "      <th>0</th>\n",
       "      <td>536365</td>\n",
       "      <td>85123A</td>\n",
       "      <td>WHITE HANGING HEART T-LIGHT HOLDER</td>\n",
       "      <td>6</td>\n",
       "      <td>12/01/10 8:26</td>\n",
       "      <td>2.55</td>\n",
       "      <td>17850.0</td>\n",
       "      <td>United Kingdom</td>\n",
       "    </tr>\n",
       "    <tr>\n",
       "      <th>1</th>\n",
       "      <td>536365</td>\n",
       "      <td>71053</td>\n",
       "      <td>WHITE METAL LANTERN</td>\n",
       "      <td>6</td>\n",
       "      <td>12/01/10 8:26</td>\n",
       "      <td>3.39</td>\n",
       "      <td>17850.0</td>\n",
       "      <td>United Kingdom</td>\n",
       "    </tr>\n",
       "    <tr>\n",
       "      <th>2</th>\n",
       "      <td>536365</td>\n",
       "      <td>84406B</td>\n",
       "      <td>CREAM CUPID HEARTS COAT HANGER</td>\n",
       "      <td>8</td>\n",
       "      <td>12/01/10 8:26</td>\n",
       "      <td>2.75</td>\n",
       "      <td>17850.0</td>\n",
       "      <td>United Kingdom</td>\n",
       "    </tr>\n",
       "    <tr>\n",
       "      <th>3</th>\n",
       "      <td>536365</td>\n",
       "      <td>84029G</td>\n",
       "      <td>KNITTED UNION FLAG HOT WATER BOTTLE</td>\n",
       "      <td>6</td>\n",
       "      <td>12/01/10 8:26</td>\n",
       "      <td>3.39</td>\n",
       "      <td>17850.0</td>\n",
       "      <td>United Kingdom</td>\n",
       "    </tr>\n",
       "    <tr>\n",
       "      <th>4</th>\n",
       "      <td>536365</td>\n",
       "      <td>84029E</td>\n",
       "      <td>RED WOOLLY HOTTIE WHITE HEART.</td>\n",
       "      <td>6</td>\n",
       "      <td>12/01/10 8:26</td>\n",
       "      <td>3.39</td>\n",
       "      <td>17850.0</td>\n",
       "      <td>United Kingdom</td>\n",
       "    </tr>\n",
       "  </tbody>\n",
       "</table>\n",
       "</div>"
      ],
      "text/plain": [
       "  InvoiceNo StockCode                          Description  Quantity  \\\n",
       "0    536365    85123A   WHITE HANGING HEART T-LIGHT HOLDER         6   \n",
       "1    536365     71053                  WHITE METAL LANTERN         6   \n",
       "2    536365    84406B       CREAM CUPID HEARTS COAT HANGER         8   \n",
       "3    536365    84029G  KNITTED UNION FLAG HOT WATER BOTTLE         6   \n",
       "4    536365    84029E       RED WOOLLY HOTTIE WHITE HEART.         6   \n",
       "\n",
       "     InvoiceDate  UnitPrice  CustomerID         Country  \n",
       "0  12/01/10 8:26       2.55     17850.0  United Kingdom  \n",
       "1  12/01/10 8:26       3.39     17850.0  United Kingdom  \n",
       "2  12/01/10 8:26       2.75     17850.0  United Kingdom  \n",
       "3  12/01/10 8:26       3.39     17850.0  United Kingdom  \n",
       "4  12/01/10 8:26       3.39     17850.0  United Kingdom  "
      ]
     },
     "execution_count": 4,
     "metadata": {},
     "output_type": "execute_result"
    }
   ],
   "source": [
    "data.head()"
   ]
  },
  {
   "cell_type": "code",
   "execution_count": 5,
   "id": "5a13540a-0b87-45de-95d7-bef3a4946f83",
   "metadata": {},
   "outputs": [
    {
     "data": {
      "text/plain": [
       "30256"
      ]
     },
     "execution_count": 5,
     "metadata": {},
     "output_type": "execute_result"
    }
   ],
   "source": [
    "data['StockCode'] = data['StockCode'].str.upper()\n",
    "data = data[\n",
    "    data['Description'].str.upper() == data['Description']\n",
    "]\n",
    "data = data[~data.duplicated(subset=['StockCode'])]\n",
    "data.size"
   ]
  },
  {
   "cell_type": "code",
   "execution_count": 15,
   "id": "d669836b-a003-49c5-936e-32940311ed3a",
   "metadata": {},
   "outputs": [],
   "source": [
    "# Transactions done in France\n",
    "basket_France = (data[data['Country'] ==\"France\"]\n",
    "        .groupby(['InvoiceNo', 'Description'])['Quantity']\n",
    "        .sum().unstack().reset_index().fillna(0)\n",
    "        .set_index('InvoiceNo'))\n",
    "\n",
    "# Transactions done in the United Kingdom\n",
    "basket_UK = (data[data['Country'] ==\"United Kingdom\"]\n",
    "        .groupby(['InvoiceNo', 'Description'])['Quantity']\n",
    "        .sum().unstack().reset_index().fillna(0)\n",
    "        .set_index('InvoiceNo'))\n",
    "\n",
    "# Transactions done in Portugal\n",
    "basket_Por = (data[data['Country'] ==\"Portugal\"]\n",
    "        .groupby(['InvoiceNo', 'Description'])['Quantity']\n",
    "        .sum().unstack().reset_index().fillna(0)\n",
    "        .set_index('InvoiceNo'))\n",
    "\n",
    "basket_Sweden = (data[data['Country'] ==\"Sweden\"]\n",
    "        .groupby(['InvoiceNo', 'Description'])['Quantity']\n",
    "        .sum().unstack().reset_index().fillna(0)\n",
    "        .set_index('InvoiceNo'))"
   ]
  },
  {
   "cell_type": "code",
   "execution_count": 19,
   "id": "442fb4f2-cfda-4262-83c9-80667986f059",
   "metadata": {},
   "outputs": [],
   "source": [
    "# Defining the hot encoding function to make the data suitable\n",
    "# for the concerned libraries\n",
    "\n",
    "# Encoding the datasets\n",
    "\n",
    "basket_France = pd.get_dummies(basket_France).astype(bool)\n",
    "basket_UK = pd.get_dummies(basket_UK).astype(bool)\n",
    "basket_Por = pd.get_dummies(basket_Por).astype(bool)\n",
    "basket_Sweden = pd.get_dummies(basket_Sweden).astype(bool)"
   ]
  },
  {
   "cell_type": "code",
   "execution_count": 7,
   "id": "08e0d7c8-d743-4c26-9b8e-229149b2a00b",
   "metadata": {},
   "outputs": [],
   "source": [
    "# Building the model\n",
    "frq_items_France = apriori(basket_France, min_support = 0.01, use_colnames = True)\n",
    "rules_France = association_rules(frq_items_France, metric =\"lift\", min_threshold = 1)\n",
    "rules_France = rules_France.sort_values(['confidence', 'lift'], ascending =[False, False])"
   ]
  },
  {
   "cell_type": "code",
   "execution_count": 8,
   "id": "297258e4-cc34-4b4c-b970-2a16501e469c",
   "metadata": {},
   "outputs": [],
   "source": [
    "frq_items_UK = apriori(basket_UK, min_support = 0.02, use_colnames = True)\n",
    "rules_UK = association_rules(frq_items_UK, metric =\"lift\", min_threshold = 1)\n",
    "rules_UK = rules_UK.sort_values(['confidence', 'lift'], ascending =[False, False])"
   ]
  },
  {
   "cell_type": "code",
   "execution_count": 9,
   "id": "0a865b7e-5ecf-45f3-b06d-015141b146a3",
   "metadata": {},
   "outputs": [],
   "source": [
    "frq_items_Por = apriori(basket_Por, min_support = 0.05, use_colnames = True)\n",
    "rules_Por = association_rules(frq_items_Por, metric =\"lift\", min_threshold = 1)\n",
    "rules_Por = rules_Por.sort_values(['confidence', 'lift'], ascending =[False, False])"
   ]
  },
  {
   "cell_type": "code",
   "execution_count": 20,
   "id": "3de72903-6395-47c5-a35b-24606d374a28",
   "metadata": {},
   "outputs": [],
   "source": [
    "frq_items_Sweden = apriori(basket_Sweden, min_support = 0.05, use_colnames = True)\n",
    "rules_Sweden = association_rules(frq_items_Sweden, metric =\"lift\", min_threshold = 1)\n",
    "rules_Sweden = rules_Sweden.sort_values(['confidence', 'lift'], ascending =[False, False])"
   ]
  },
  {
   "cell_type": "code",
   "execution_count": 11,
   "id": "32e22426-082b-4550-b3a5-969fb2dba9dc",
   "metadata": {},
   "outputs": [],
   "source": [
    "def predict(antecedent, rules, max_results=6):\n",
    "    \n",
    "    # get the rules for this antecedent\n",
    "    preds = rules[rules['antecedents'] == antecedent]\n",
    "    \n",
    "    # a way to convert a frozen set with one element to string\n",
    "    preds = preds['consequents'].apply(iter).apply(next)\n",
    "    \n",
    "    return preds.iloc[:max_results]"
   ]
  },
  {
   "cell_type": "code",
   "execution_count": 9,
   "id": "241089b4-2dec-4d5e-a0b1-806b6f72fea3",
   "metadata": {},
   "outputs": [
    {
     "data": {
      "text/html": [
       "<div>\n",
       "<style scoped>\n",
       "    .dataframe tbody tr th:only-of-type {\n",
       "        vertical-align: middle;\n",
       "    }\n",
       "\n",
       "    .dataframe tbody tr th {\n",
       "        vertical-align: top;\n",
       "    }\n",
       "\n",
       "    .dataframe thead th {\n",
       "        text-align: right;\n",
       "    }\n",
       "</style>\n",
       "<table border=\"1\" class=\"dataframe\">\n",
       "  <thead>\n",
       "    <tr style=\"text-align: right;\">\n",
       "      <th></th>\n",
       "      <th>antecedents</th>\n",
       "      <th>consequents</th>\n",
       "      <th>antecedent support</th>\n",
       "      <th>consequent support</th>\n",
       "      <th>support</th>\n",
       "      <th>confidence</th>\n",
       "      <th>lift</th>\n",
       "      <th>leverage</th>\n",
       "      <th>conviction</th>\n",
       "    </tr>\n",
       "  </thead>\n",
       "  <tbody>\n",
       "    <tr>\n",
       "      <th>0</th>\n",
       "      <td>(12 PENCILS SMALL TUBE SKULL)</td>\n",
       "      <td>(PACK OF 72 SKULL CAKE CASES)</td>\n",
       "      <td>0.055556</td>\n",
       "      <td>0.055556</td>\n",
       "      <td>0.055556</td>\n",
       "      <td>1.0</td>\n",
       "      <td>18.0</td>\n",
       "      <td>0.052469</td>\n",
       "      <td>inf</td>\n",
       "    </tr>\n",
       "    <tr>\n",
       "      <th>1</th>\n",
       "      <td>(PACK OF 72 SKULL CAKE CASES)</td>\n",
       "      <td>(12 PENCILS SMALL TUBE SKULL)</td>\n",
       "      <td>0.055556</td>\n",
       "      <td>0.055556</td>\n",
       "      <td>0.055556</td>\n",
       "      <td>1.0</td>\n",
       "      <td>18.0</td>\n",
       "      <td>0.052469</td>\n",
       "      <td>inf</td>\n",
       "    </tr>\n",
       "    <tr>\n",
       "      <th>4</th>\n",
       "      <td>(36 DOILIES DOLLY GIRL)</td>\n",
       "      <td>(ASSORTED BOTTLE TOP  MAGNETS)</td>\n",
       "      <td>0.055556</td>\n",
       "      <td>0.055556</td>\n",
       "      <td>0.055556</td>\n",
       "      <td>1.0</td>\n",
       "      <td>18.0</td>\n",
       "      <td>0.052469</td>\n",
       "      <td>inf</td>\n",
       "    </tr>\n",
       "    <tr>\n",
       "      <th>5</th>\n",
       "      <td>(ASSORTED BOTTLE TOP  MAGNETS)</td>\n",
       "      <td>(36 DOILIES DOLLY GIRL)</td>\n",
       "      <td>0.055556</td>\n",
       "      <td>0.055556</td>\n",
       "      <td>0.055556</td>\n",
       "      <td>1.0</td>\n",
       "      <td>18.0</td>\n",
       "      <td>0.052469</td>\n",
       "      <td>inf</td>\n",
       "    </tr>\n",
       "    <tr>\n",
       "      <th>180</th>\n",
       "      <td>(CHILDRENS CUTLERY CIRCUS PARADE)</td>\n",
       "      <td>(CHILDRENS CUTLERY DOLLY GIRL)</td>\n",
       "      <td>0.055556</td>\n",
       "      <td>0.055556</td>\n",
       "      <td>0.055556</td>\n",
       "      <td>1.0</td>\n",
       "      <td>18.0</td>\n",
       "      <td>0.052469</td>\n",
       "      <td>inf</td>\n",
       "    </tr>\n",
       "  </tbody>\n",
       "</table>\n",
       "</div>"
      ],
      "text/plain": [
       "                           antecedents                     consequents  \\\n",
       "0        (12 PENCILS SMALL TUBE SKULL)   (PACK OF 72 SKULL CAKE CASES)   \n",
       "1        (PACK OF 72 SKULL CAKE CASES)   (12 PENCILS SMALL TUBE SKULL)   \n",
       "4              (36 DOILIES DOLLY GIRL)  (ASSORTED BOTTLE TOP  MAGNETS)   \n",
       "5       (ASSORTED BOTTLE TOP  MAGNETS)         (36 DOILIES DOLLY GIRL)   \n",
       "180  (CHILDRENS CUTLERY CIRCUS PARADE)  (CHILDRENS CUTLERY DOLLY GIRL)   \n",
       "\n",
       "     antecedent support  consequent support   support  confidence  lift  \\\n",
       "0              0.055556            0.055556  0.055556         1.0  18.0   \n",
       "1              0.055556            0.055556  0.055556         1.0  18.0   \n",
       "4              0.055556            0.055556  0.055556         1.0  18.0   \n",
       "5              0.055556            0.055556  0.055556         1.0  18.0   \n",
       "180            0.055556            0.055556  0.055556         1.0  18.0   \n",
       "\n",
       "     leverage  conviction  \n",
       "0    0.052469         inf  \n",
       "1    0.052469         inf  \n",
       "4    0.052469         inf  \n",
       "5    0.052469         inf  \n",
       "180  0.052469         inf  "
      ]
     },
     "execution_count": 9,
     "metadata": {},
     "output_type": "execute_result"
    }
   ],
   "source": [
    "rules_Sweden.head()"
   ]
  },
  {
   "cell_type": "code",
   "execution_count": 12,
   "id": "62a02434-2565-46bc-86e5-a2b0c8bf738e",
   "metadata": {
    "tags": []
   },
   "outputs": [
    {
     "data": {
      "text/plain": [
       "180        CHILDRENS CUTLERY DOLLY GIRL\n",
       "2143       CHILDRENS CUTLERY DOLLY GIRL\n",
       "2149                            POSTAGE\n",
       "2155       CHILDRENS CUTLERY DOLLY GIRL\n",
       "2167    CHILDRENS CUTLERY POLKADOT PINK\n",
       "9372                            POSTAGE\n",
       "Name: consequents, dtype: object"
      ]
     },
     "execution_count": 12,
     "metadata": {},
     "output_type": "execute_result"
    }
   ],
   "source": [
    "preds = predict({'CHILDRENS CUTLERY CIRCUS PARADE'}, rules=rules_Sweden)\n",
    "preds"
   ]
  },
  {
   "cell_type": "code",
   "execution_count": 18,
   "id": "fa3c14db-f9a8-4925-9e2f-e715f906b4fe",
   "metadata": {},
   "outputs": [],
   "source": [
    "# Transactions done in France\n",
    "basket_France = (data[data['Country'] ==\"France\"]\n",
    "        .groupby(['InvoiceNo', 'StockCode'])['Quantity']\n",
    "        .sum().unstack().reset_index().fillna(0)\n",
    "        .set_index('InvoiceNo'))\n",
    "\n",
    "# Transactions done in the United Kingdom\n",
    "basket_UK = (data[data['Country'] ==\"United Kingdom\"]\n",
    "        .groupby(['InvoiceNo', 'StockCode'])['Quantity']\n",
    "        .sum().unstack().reset_index().fillna(0)\n",
    "        .set_index('InvoiceNo'))\n",
    "\n",
    "# Transactions done in Portugal\n",
    "basket_Por = (data[data['Country'] ==\"Portugal\"]\n",
    "        .groupby(['InvoiceNo', 'StockCode'])['Quantity']\n",
    "        .sum().unstack().reset_index().fillna(0)\n",
    "        .set_index('InvoiceNo'))\n",
    "\n",
    "basket_Sweden = (data[data['Country'] ==\"Sweden\"]\n",
    "        .groupby(['InvoiceNo', 'StockCode'])['Quantity']\n",
    "        .sum().unstack().reset_index().fillna(0)\n",
    "        .set_index('InvoiceNo'))"
   ]
  },
  {
   "cell_type": "code",
   "execution_count": null,
   "id": "cc43aa87-7502-4e6a-9511-6643d51de4b6",
   "metadata": {},
   "outputs": [],
   "source": []
  }
 ],
 "metadata": {
  "kernelspec": {
   "display_name": "Python 3 (ipykernel)",
   "language": "python",
   "name": "python3"
  },
  "language_info": {
   "codemirror_mode": {
    "name": "ipython",
    "version": 3
   },
   "file_extension": ".py",
   "mimetype": "text/x-python",
   "name": "python",
   "nbconvert_exporter": "python",
   "pygments_lexer": "ipython3",
   "version": "3.9.15"
  }
 },
 "nbformat": 4,
 "nbformat_minor": 5
}
